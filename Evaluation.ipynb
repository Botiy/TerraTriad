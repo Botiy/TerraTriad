{
 "cells": [
  {
   "cell_type": "code",
   "execution_count": 30,
   "metadata": {},
   "outputs": [],
   "source": [
    "import torch"
   ]
  },
  {
   "cell_type": "code",
   "execution_count": 31,
   "metadata": {},
   "outputs": [],
   "source": [
    "# Assume the model input will be a pytorch tensor out of ones and zeros\n",
    "def iou_pytorch(outputs: torch.Tensor, targets: torch.Tensor, threshold: float = 0.5):\n",
    "    # flattening\n",
    "    outputs = (outputs > threshold).float().view(-1)\n",
    "    targets = targets.view(-1)\n",
    "\n",
    "    intsect = (outputs * targets).sum()\n",
    "    union = outputs.sum() + targets.sum() - intsect\n",
    "    \n",
    "    iou = (intsect + 1e-6) / (union + 1e-6)\n",
    "    \n",
    "    return iou"
   ]
  },
  {
   "cell_type": "code",
   "execution_count": 32,
   "metadata": {},
   "outputs": [],
   "source": [
    "# Assume the model input will be a pytorch tensor out of ones and zeros\n",
    "def f1_score_pytorch(outputs: torch.Tensor, targets: torch.Tensor, threshold: float = 0.5):\n",
    "    # flattening\n",
    "    outputs = (outputs > threshold).float().view(-1)\n",
    "    targets = targets.view(-1)\n",
    "    \n",
    "    # Calculate True Positives, False Positives, False Negatives\n",
    "    true_positive = (outputs * targets).sum()\n",
    "    false_positive = ((outputs == 1) & (targets == 0)).sum()\n",
    "    false_negative = ((outputs == 0) & (targets == 1)).sum()\n",
    "    \n",
    "    # Calculate precision and recall\n",
    "    precision = true_positive / (true_positive + false_positive + 1e-6)\n",
    "    recall = true_positive / (true_positive + false_negative + 1e-6)\n",
    "    \n",
    "    # Calculate F1 Score\n",
    "    f1 = 2 * (precision * recall) / (precision + recall + 1e-6)\n",
    "    \n",
    "    return precision, recall, f1"
   ]
  },
  {
   "cell_type": "code",
   "execution_count": null,
   "metadata": {},
   "outputs": [
    {
     "name": "stdout",
     "output_type": "stream",
     "text": [
      "IoU Scores: [0.33230477571487427, 0.3346702456474304, 0.3334290385246277, 0.3345944881439209]\n",
      "F1 Scores: [0.49884143471717834, 0.5015020370483398, 0.5001072287559509, 0.5014169812202454]\n"
     ]
    }
   ],
   "source": [
    "\n",
    "preds = torch.rand((4, 1, 768, 768))\n",
    "targets = torch.randint(0, 2, (4, 1, 768, 768)) \n",
    "\n",
    "# Calculate IoU and F1 for each image in the batch\n",
    "batch_size = preds.shape[0]\n",
    "iou_scores = []\n",
    "f1_scores = []\n",
    "\n",
    "for i in range(batch_size):\n",
    "    iou = iou_pytorch(preds[i], targets[i])\n",
    "    _, _, f1 = f1_score_pytorch(preds[i], targets[i])\n",
    "\n",
    "    iou_scores.append(iou.item())\n",
    "    f1_scores.append(f1.item())\n",
    "\n",
    "print(\"IoU Scores:\", iou_scores)\n",
    "print(\"F1 Scores:\", f1_scores)\n"
   ]
  },
  {
   "cell_type": "code",
   "execution_count": null,
   "metadata": {},
   "outputs": [],
   "source": []
  }
 ],
 "metadata": {
  "kernelspec": {
   "display_name": "lambda-stack",
   "language": "python",
   "name": "python3"
  },
  "language_info": {
   "codemirror_mode": {
    "name": "ipython",
    "version": 3
   },
   "file_extension": ".py",
   "mimetype": "text/x-python",
   "name": "python",
   "nbconvert_exporter": "python",
   "pygments_lexer": "ipython3",
   "version": "3.10.12"
  }
 },
 "nbformat": 4,
 "nbformat_minor": 2
}
